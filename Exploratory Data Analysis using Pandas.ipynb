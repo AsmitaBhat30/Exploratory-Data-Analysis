{
 "cells": [
  {
   "cell_type": "markdown",
   "metadata": {},
   "source": [
    "# Data Visualization (2018/19)\n",
    "\n",
    "Exploratory Data Analysis\n",
    "\n",
    "\n",
    "Date: 22.11.2018, 22:00\n",
    "\n",
    "Hints: \n",
    "- Double click on a cell to edit it.\n",
    "- Enter the Markdown mode in the drop-down menu above (it may say Code for new cells).\n",
    "- Run a cell by pressing CTRL+Enter\n",
    "- Markdown docu: http://jupyter-notebook.readthedocs.io/en/stable/examples/Notebook/Working%20With%20Markdown%20Cells.html\n",
    "- Markdown cheatsheet: http://datascience.ibm.com/blog/markdown-for-jupyter-notebooks-cheatsheet/"
   ]
  },
  {
   "cell_type": "markdown",
   "metadata": {},
   "source": [
    "### Exercise 1: Choose a data set\n",
    "\n",
    "We will use the Python Data Analysis Library (Pandas) to work with the data. Pandas provides a rich feature set for working with tabular data including data structures and analysis tools.\n",
    "\n",
    "A 10 minute introduction to pandas with all neccessary functions can be found here: http://pandas.pydata.org/pandas-docs/stable/10min.html (Quickly skim over the available functionality. You don't have to learn it yet.)"
   ]
  },
  {
   "cell_type": "markdown",
   "metadata": {
    "collapsed": true
   },
   "source": [
    "#### Your selection:\n",
    "Selected dataset: Titanic"
   ]
  },
  {
   "cell_type": "markdown",
   "metadata": {},
   "source": [
    "# Exercise 2: Data queries\n",
    "\n",
    "1. Analyze the number of people from each Economic Class? Was Titanic a Ship for the rich? \n",
    "2. What is the survival rate of people with respect to their gender? \n",
    "3. Compare the survival rate of different age groups? \n",
    "4. What is the survival rate according to different economic classes? Is there any relation between economic class and survival rate?\n",
    "5. What is the overall rate of Survival on the Ship? What is the number of total passengers survived? \n",
    "6. How many people from different Age groups were present on titanic? Was there a particular age group that dominated? Was Titanic a ship for young people?"
   ]
  },
  {
   "cell_type": "markdown",
   "metadata": {},
   "source": [
    "### Exercise 3: Data analysis\n",
    "\n",
    "Here is sample code to pass your data from the pandas data frame to bokeh and render a graphic inside the notebook."
   ]
  },
  {
   "cell_type": "code",
   "execution_count": 12,
   "metadata": {
    "scrolled": false
   },
   "outputs": [],
   "source": [
    "# Question 1,4,5\n",
    "\n",
    "# import the pandas library and call it pd for further usage\n",
    "import pandas as pd\n",
    "import numpy as np\n",
    "\n",
    "# import bokeh \n",
    "\n",
    "from bokeh.io import output_notebook\n",
    "from bokeh.core.properties import value\n",
    "from bokeh.io import show, output_file\n",
    "from bokeh.plotting import figure\n",
    "\n",
    "output_file(\"stacked_bar.html\")\n",
    "\n",
    "# read the csv file into a pandas dataframe and print the first lines of the table\n",
    "filename = \"titanic3.csv\"\n",
    "df = pd.read_csv( filename, header=0 )\n",
    "new_df=pd.DataFrame({'count' : df.groupby( [ \"pclass\", \"survived\"] ).size()}).reset_index()       \n",
    "classes = ['Class1', 'Class2', 'Class3']\n",
    "years = [\"survived\", \"not survived\"]\n",
    "colors = [\"#c9d9d3\", \"#718dbf\"]\n",
    "\n",
    "data = {'classes' : classes,\n",
    "        'survived'   : [200,119,181],\n",
    "        'not survived'   : [123,158,528]\n",
    "        }\n",
    "\n",
    "p = figure(x_range=classes, plot_height=400, title=\"Passenger survival by Class\",\n",
    "           toolbar_location=None, tools=\"\")\n",
    "\n",
    "p.vbar_stack(years, x='classes', width=0.4, color=colors, source=data,\n",
    "             legend=[value(x) for x in years])\n",
    "\n",
    "p.y_range.start = 0\n",
    "p.x_range.range_padding = 0.1\n",
    "p.xgrid.grid_line_color = None\n",
    "p.axis.minor_tick_line_color = None\n",
    "p.outline_line_color = None\n",
    "p.legend.location = \"top_left\"\n",
    "p.legend.orientation = \"horizontal\"\n",
    "\n",
    "show(p)\n"
   ]
  },
  {
   "cell_type": "code",
   "execution_count": 31,
   "metadata": {},
   "outputs": [],
   "source": [
    "#Question 2,3,6\n",
    "\n",
    "# import the pandas library and call it pd for further usage\n",
    "import pandas as pd\n",
    "import numpy as np\n",
    "\n",
    "# import bokeh \n",
    "\n",
    "from bokeh.io import output_notebook\n",
    "from bokeh.core.properties import value\n",
    "from bokeh.io import show, output_file\n",
    "from bokeh.plotting import figure\n",
    "from bokeh.models import FactorRange\n",
    "\n",
    "output_file(\"stacked_and_bar.html\")\n",
    "\n",
    "# read the csv file into a pandas dataframe and print the first lines of the table\n",
    "filename = \"titanic3.csv\"\n",
    "df = pd.read_csv( filename, header=0 )\n",
    "new_df=pd.DataFrame({'count' : df.groupby([\"survived\",pd.cut(df[\"age\"], np.arange(0, 80, 10)),\"sex\"]).size()}).reset_index()\n",
    "factors = [\n",
    "    (\"0-10\", \"male\"),(\"0-10\", \"female\"),\n",
    "    (\"10-20\", \"male\"),(\"10-20\", \"female\"),\n",
    "    (\"20-30\", \"male\"),(\"20-30\", \"female\"),    \n",
    "    (\"30-40\", \"male\"),(\"30-40\", \"female\"),\n",
    "    (\"40-50\", \"male\"),(\"40-50\", \"female\"),\n",
    "    (\"50-60\", \"male\"),(\"50-60\", \"female\"),\n",
    "    (\"60-70\", \"male\"),(\"60-70\", \"female\"), \n",
    "\n",
    "]\n",
    "\n",
    "regions = ['survived', 'notsurvived']\n",
    "\n",
    "source = ColumnDataSource(data=dict(\n",
    "    x=factors,\n",
    "    survived=[ 20, 16,80,18,192,35,107,14,70,10,30,2,20,1],\n",
    "    notsurvived=[25,25,14,50,43,91,28,61,16,36,7,23,1,5],\n",
    "))\n",
    "\n",
    "p = figure(x_range=FactorRange(*factors), plot_height=500,title=\"Passenger survival by Age and Gender\",\n",
    "           toolbar_location=None, tools=\"\")\n",
    "\n",
    "p.vbar_stack(regions, x='x', width=0.9, alpha=0.5, color=[\"blue\", \"red\"], source=source,\n",
    "             legend=[value(x) for x in regions])\n",
    "\n",
    "p.y_range.start = 0\n",
    "p.x_range.range_padding = 0.1\n",
    "p.xaxis.major_label_orientation = 1\n",
    "p.xgrid.grid_line_color = None\n",
    "\n",
    "show(p)\n"
   ]
  },
  {
   "cell_type": "markdown",
   "metadata": {},
   "source": [
    "# Exercise 2 - Answers\n",
    "\n",
    "1. Analyze the number of people from each Economic Class? Was Titanic a Ship for the rich? \n",
    "   Ans - After analyzing Chart 1 we see that a lot of 3rd class passengers are there on the Ship.The conclusion is that the              Titanic was a ship for all.\n",
    "   \n",
    "2. What is the survival rate of people with respect to their gender? \n",
    "   Ans - The relation of gender and survival rate is highlighted in Chart 2. In general the ratio of men survived to women is            more.\n",
    "   \n",
    "3. Compare the survival rate of different age groups?\n",
    "   Ans - The survival rate of various age groups can be deduced from Chart 2. It can be deduced that the overall survival rate    was high in the age groups of 10-20,20-30,60-70 and was low in age groups 0-10 and 50-60.\n",
    "   \n",
    "4. What is the survival rate according to different economic classes? Is there any relation between economic class and survival    rate?\n",
    "   Ans - There is indeed a relation between survival rate with the economic classes. The passengers from first class were most    likely to survive followed by second class, the last being the third class passengers. This can be seen from Graph 1.\n",
    "   \n",
    "5. What is the overall rate of Survival on the Ship? What is the number of total passengers survived?\n",
    "   Ans-The overall rate of survival can be deduced from Graph 2. The total number of people survived were 500 and the survival    rate was 38.17%.\n",
    "   \n",
    "6. How many people from different Age groups were present on titanic? Was there a particular age group that dominated? Was        Titanic a ship for young people?\n",
    "   Ans- This Question can be answered by looking at the Graph 2.Highest number of people on Titanic were from Age group 20-30,    followed by age group 30-40. Least number of people were from 60-70 age group.Titanic was a ship for the young!  "
   ]
  },
  {
   "cell_type": "markdown",
   "metadata": {},
   "source": [
    "# Exercise 4 –  Summary\n",
    "\n",
    "The dataset was about the passengers on the Ship Titanic. The dataset has attributes of Name,Sex,Age,Destination,Fare,Survival. We could find patterns in the data regarding survival rates and found the following:\n",
    "    Men had more survival rate than women across all age groups.\n",
    "    The higher the class the more chances of survival.\n",
    "    Even though more third class passengers were there on ship,less of them were saved.\n",
    "There are few problems with the dataset. There are a few missing values in the dataset for columns like age and fare.There are very few boat values. In the ticket and boat columns the values were inconsistent.\n",
    "There is a scope in this dataset to find patterns regarding the destinations. We could make connections with economic class and destination. We could also look into which was the most favourite destination. This dataset has huge potential for further analysis."
   ]
  }
 ],
 "metadata": {
  "kernelspec": {
   "display_name": "Python 3",
   "language": "python",
   "name": "python3"
  },
  "language_info": {
   "codemirror_mode": {
    "name": "ipython",
    "version": 3
   },
   "file_extension": ".py",
   "mimetype": "text/x-python",
   "name": "python",
   "nbconvert_exporter": "python",
   "pygments_lexer": "ipython3",
   "version": "3.7.1"
  }
 },
 "nbformat": 4,
 "nbformat_minor": 2
}
